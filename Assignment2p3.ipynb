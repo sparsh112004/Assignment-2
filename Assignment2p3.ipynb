{
 "cells": [
  {
   "cell_type": "markdown",
   "id": "6a48ebb0-6c91-4b6e-b061-4ab6977ef602",
   "metadata": {},
   "source": [
    "## Stage-0"
   ]
  },
  {
   "cell_type": "markdown",
   "id": "887f189d-500d-46ef-81d7-8b76e353efaf",
   "metadata": {},
   "source": [
    "## List\n"
   ]
  },
  {
   "cell_type": "code",
   "execution_count": 88,
   "id": "4d290914-5e69-47d2-bd71-e3beb87fb350",
   "metadata": {},
   "outputs": [
    {
     "name": "stdout",
     "output_type": "stream",
     "text": [
      "[1, 2, 3, 4, 5, 6, 7, 8, 9]\n",
      "[1, 3, 4, 5, 6, 7, 8, 9]\n",
      "[1, 3, 5, 6, 7, 8, 9]\n",
      "[1, 3, 5, 6, 7, 8, 9, 10, 11, 12]\n",
      "[1, 2, 3, 5, 6, 7, 8, 9, 10, 11, 12]\n",
      "[1, 2, 3, 5, 6, 7, 8, 9, 10, 11, 12, 2, 2, 2]\n",
      "[1, 2, 3, 5, 6, 14, 7, 8, 9, 10, 11, 12, 2, 2, 2]\n",
      "[1, 2, 2, 2, 2, 3, 5, 6, 7, 8, 9, 10, 11, 12, 14]\n",
      "[1, 2, 2, 2, 2, 3, 4, 5, 6, 7, 8, 9, 10, 11, 12, 14]\n",
      "[14, 12, 11, 10, 9, 8, 7, 6, 5, 4, 3, 2, 2, 2, 2, 1]\n",
      "[1, 2, 2, 2, 2, 3, 4, 5, 6, 7, 8, 9, 10, 11, 12, 14]\n",
      "[1, 2, 2, 2, 2, 3, 4, 5, 6, 7, 8, 9, 10, 11, 12, 14]\n",
      "[1, 2, 2, 2, 3, 4, 5, 6, 7, 8, 9, 10, 11, 12, 14]\n",
      "[1, 2, 2, 3, 4, 5, 6, 7, 8, 9, 10, 11, 12, 14]\n",
      "[1, 2, 3, 4, 5, 6, 7, 8, 9, 10, 11, 12, 14]\n",
      "[1, 2, 3, 4, 5, 6, 7, 8, 9, 10, 11, 12, 13, 14]\n",
      "[1, 2, 3, 4, 5, 6, 7, 8, 9, 10, 11, 12, 13, 14, 1, 2, 2, 2, 2, 3, 4, 5, 6, 7, 8, 9, 10, 11, 12, 14]\n",
      "[1, 1, 2, 2, 2, 2, 2, 3, 3, 4, 4, 5, 5, 6, 6, 7, 7, 8, 8, 9, 9, 10, 10, 11, 11, 12, 12, 13, 14, 14]\n",
      "[1, 2, 2, 2, 2, 2, 3, 3, 4, 4, 5, 5, 6, 6, 7, 7, 8, 8, 9, 9, 10, 10, 11, 11, 12, 12, 13, 14, 14]\n",
      "[1, 2, 2, 2, 2, 3, 3, 4, 4, 5, 5, 6, 6, 7, 7, 8, 8, 9, 9, 10, 10, 11, 11, 12, 12, 13, 14, 14]\n",
      "[1, 2, 2, 2, 3, 3, 4, 4, 5, 5, 6, 6, 7, 7, 8, 8, 9, 9, 10, 10, 11, 11, 12, 12, 13, 14, 14]\n",
      "[1, 2, 2, 3, 3, 4, 4, 5, 5, 6, 6, 7, 7, 8, 8, 9, 9, 10, 10, 11, 11, 12, 12, 13, 14, 14]\n",
      "[1, 2, 2, 3, 4, 4, 5, 5, 6, 6, 7, 7, 8, 8, 9, 9, 10, 10, 11, 11, 12, 12, 13, 14, 14]\n",
      "[1, 2, 2, 3, 4, 5, 5, 6, 6, 7, 7, 8, 8, 9, 9, 10, 10, 11, 11, 12, 12, 13, 14, 14]\n",
      "[1, 2, 2, 3, 4, 5, 6, 6, 7, 7, 8, 8, 9, 9, 10, 10, 11, 11, 12, 12, 13, 14, 14]\n",
      "[1, 2, 2, 3, 4, 5, 6, 7, 7, 8, 8, 9, 9, 10, 10, 11, 11, 12, 12, 13, 14, 14]\n",
      "[1, 2, 2, 3, 4, 5, 6, 7, 8, 8, 9, 9, 10, 10, 11, 11, 12, 12, 13, 14, 14]\n",
      "[1, 2, 2, 3, 4, 5, 6, 7, 8, 9, 9, 10, 10, 11, 11, 12, 12, 13, 14, 14]\n",
      "[1, 2, 2, 3, 4, 5, 6, 7, 8, 9, 10, 10, 11, 11, 12, 12, 13, 14, 14]\n",
      "[1, 2, 2, 3, 4, 5, 6, 7, 8, 9, 10, 11, 11, 12, 12, 13, 14, 14]\n",
      "[1, 2, 2, 3, 4, 5, 6, 7, 8, 9, 10, 11, 12, 12, 13, 14, 14]\n",
      "[1, 2, 2, 3, 4, 5, 6, 7, 8, 9, 10, 11, 12, 13, 14, 14]\n",
      "[1, 2, 2, 3, 4, 5, 6, 7, 8, 9, 10, 11, 12, 13, 14]\n",
      "[1, 2, 3, 4, 5, 6, 7, 8, 9, 10, 11, 12, 13, 14]\n",
      "[1, 2, 3, 4, 5, 6, 7, 8, 9, 10]\n",
      "Memory address of listt:  2165817020352\n",
      "Memory address of listtt:  2165817030848\n",
      "Memory address of listttt:  2165817032384\n",
      "[1, 2, 3, 4, 5, 6, 7, 8, 9, 10]\n",
      "In l\n",
      "1\n",
      "2\n",
      "3\n",
      "4\n",
      "5\n",
      "6\n",
      "7\n",
      "8\n",
      "9\n",
      "10\n"
     ]
    }
   ],
   "source": [
    "#Creating a list with some values in it \n",
    "listt = [1,2,3,4,5,6,7,8]\n",
    "\n",
    "#Creating a empty list\n",
    "listtt = []\n",
    "\n",
    "#Append means add something in listt\n",
    "listt.append(9)\n",
    "print(listt)\n",
    "\n",
    "#Remove that number from listt\n",
    "listt.remove(2)\n",
    "print(listt)\n",
    "\n",
    "#Pop means to remove something from index number\n",
    "listt.pop(2)\n",
    "print(listt)\n",
    "\n",
    "#Extend means to add some elements in list \n",
    "listt.extend([10,11,12])\n",
    "print(listt)\n",
    "\n",
    "#Insert means insert something in index number\n",
    "listt.insert(1,2)\n",
    "print(listt)\n",
    "\n",
    "listt.extend([2,2,2])\n",
    "print(listt)\n",
    "\n",
    "#Count-it counts that number in list\n",
    "listt.count(2)\n",
    "\n",
    "listt.insert(5,14)\n",
    "print(listt)\n",
    "\n",
    "#Sort-it sorts the elements by ascending order\n",
    "listt.sort()\n",
    "print(listt)\n",
    "\n",
    "listt.insert(6,4)\n",
    "print(listt)\n",
    "\n",
    "#Reverse-it reverse the list\n",
    "listt.reverse()\n",
    "print(listt)\n",
    "\n",
    "listt.reverse()\n",
    "print(listt)\n",
    "\n",
    "#Copy one list in other list \n",
    "listtt= listt.copy()\n",
    "print(listtt)\n",
    "\n",
    "listt.remove(2)\n",
    "print(listt)\n",
    "\n",
    "listt.remove(2)\n",
    "print(listt)\n",
    "\n",
    "listt.remove(2)\n",
    "print(listt)\n",
    "\n",
    "listt.insert(12,13)\n",
    "print(listt)\n",
    "\n",
    "#Adding two list and creating a third list\n",
    "listttt = listt + listtt\n",
    "print(listttt)\n",
    "\n",
    "listttt.sort()\n",
    "print(listttt)\n",
    "\n",
    "#Removing duplicate elements\n",
    "for i in listttt:\n",
    "    listttt.remove(i)\n",
    "    print(listttt)\n",
    "listttt.remove(2)\n",
    "print(listttt)\n",
    "\n",
    "#Deleting elements from one index to another index\n",
    "del listttt[10:14]\n",
    "print(listttt)\n",
    "\n",
    "#Printing the memory address of our lists\n",
    "print(\"Memory address of listt: \",id(listt))\n",
    "print(\"Memory address of listtt: \",id(listtt))\n",
    "print(\"Memory address of listttt: \",id(listttt))\n",
    "l=[]\n",
    "l=listttt.copy()\n",
    "print(l)\n",
    "listttt[2:]\n",
    "listttt[::2]\n",
    "\n",
    "#Using if, else\n",
    "b = 5\n",
    "if b in l:\n",
    "    print(\"In l\")\n",
    "else:\n",
    "    print(\"Not in l\")\n",
    "    \n",
    "#Using for loop    \n",
    "for i in l:\n",
    "    print(i)"
   ]
  },
  {
   "cell_type": "markdown",
   "id": "7191b39a-b222-43b4-ad52-20e3407bcf58",
   "metadata": {},
   "source": [
    "## Tuple"
   ]
  },
  {
   "cell_type": "code",
   "execution_count": 94,
   "id": "3d64977c-d4a6-4937-aff3-fa64fe475570",
   "metadata": {},
   "outputs": [
    {
     "name": "stdout",
     "output_type": "stream",
     "text": [
      "5\n",
      "3\n",
      "(1, 2, 3, 4, 5, 'a', 'b', 'c', 'd', 'e')\n",
      "(5, 4, 3, 2, 1)\n",
      "(1, 2, 3, 4, 5, 'a', 'b', 'c', 'd', 'e')\n",
      "(1, 2, 3, 4, 5, 'a', 'b', 'c', 'd', 'e')\n",
      "(2, 3, 4, 5, 'a', 'b', 'c', 'd', 'e')\n",
      "(2, 5, 'c')\n",
      "In\n",
      "1\n",
      "2\n",
      "3\n",
      "4\n",
      "5\n",
      "a\n",
      "b\n",
      "c\n",
      "d\n",
      "e\n",
      "(1, 2, 3, 4, 5, 'a', 'b', 'c', 'd', 'e', 'a', 'a', 'a', 'a')\n"
     ]
    },
    {
     "ename": "TypeError",
     "evalue": "'tuple' object is not callable",
     "output_type": "error",
     "traceback": [
      "\u001b[1;31m---------------------------------------------------------------------------\u001b[0m",
      "\u001b[1;31mTypeError\u001b[0m                                 Traceback (most recent call last)",
      "Cell \u001b[1;32mIn[94], line 52\u001b[0m\n\u001b[0;32m     49\u001b[0m \u001b[38;5;28mprint\u001b[39m(t4)  \n\u001b[0;32m     51\u001b[0m \u001b[38;5;66;03m#Creating a tuple from a string using the tuple() function\u001b[39;00m\n\u001b[1;32m---> 52\u001b[0m tt \u001b[38;5;241m=\u001b[39m \u001b[38;5;28;43mtuple\u001b[39;49m\u001b[43m(\u001b[49m\u001b[38;5;124;43m\"\u001b[39;49m\u001b[38;5;124;43mSparsh\u001b[39;49m\u001b[38;5;124;43m\"\u001b[39;49m\u001b[43m)\u001b[49m\n\u001b[0;32m     53\u001b[0m \u001b[38;5;28mprint\u001b[39m(\u001b[38;5;124m\"\u001b[39m\u001b[38;5;124mTuple with the use of function: \u001b[39m\u001b[38;5;124m\"\u001b[39m)\n\u001b[0;32m     54\u001b[0m \u001b[38;5;28mprint\u001b[39m(tt)  \n",
      "\u001b[1;31mTypeError\u001b[0m: 'tuple' object is not callable"
     ]
    }
   ],
   "source": [
    "#Creating a tuple t1\n",
    "t1 = (1, 2, 3, 4, 5)\n",
    "\n",
    "#Printing the length of tuple t1\n",
    "print(len(t1))  # Output: 5\n",
    "\n",
    "#Printing the index of element 4 in tuple t1\n",
    "print(t1.index(4))  # Output: 3\n",
    "\n",
    "#Creating another tuple t2\n",
    "t2 = ('a', 'b', 'c', 'd', 'e')\n",
    "\n",
    "#Concatenating tuples t1 and t2\n",
    "print(t1 + t2) \n",
    "\n",
    "#Printing the reversed tuple t1\n",
    "print(t1[::-1])  \n",
    "\n",
    "#Concatenating tuples t1 and t2 and storing in t3\n",
    "t3 = t1 + t2\n",
    "print(t3)  \n",
    "#Converting t3 to a tuple (not necessary as it's already a tuple)\n",
    "t4 = (t3)\n",
    "print(t4)  \n",
    "\n",
    "#Slicing t3 to remove the first element\n",
    "t3 = t3[1:]\n",
    "print(t3) \n",
    "\n",
    "# Slicing t3 to get every third element\n",
    "t3 = t3[::3]\n",
    "print(t3)  \n",
    "\n",
    "#Checking if the value 3 is present in t4\n",
    "a = 3\n",
    "if a in t4:\n",
    "   print(\"In\") \n",
    "else:\n",
    "   print(\"No\")\n",
    "\n",
    "#Printing elements of t4 using a while loop\n",
    "i = 0\n",
    "while i < len(t4):\n",
    "   print(t4[i])\n",
    "   i += 1\n",
    "\n",
    "#Concatenating t4 with ('a',) repeated 4 times\n",
    "t4 = t4 + ('a',) * 4\n",
    "print(t4)  \n",
    "\n",
    "#Creating a tuple from a string using the tuple() function\n",
    "tt = tuple('Sparsh')\n",
    "print(\"Tuple with the use of function: \")\n",
    "print(tt)  \n",
    "print(len(tt))  \n",
    "\n",
    "#Creating nested tuples\n",
    "T01 = (1, 2, 3, 4)\n",
    "T02 = ('S', 'P', 'A', 'R')\n",
    "T03 = (T01, T02)\n",
    "print(\"Tuple with nested tuples: \")\n",
    "print(T03)  "
   ]
  },
  {
   "cell_type": "markdown",
   "id": "02e1646c-75bd-4f09-8437-2eb4e9b77a7c",
   "metadata": {},
   "source": [
    "## Dictionary"
   ]
  },
  {
   "cell_type": "code",
   "execution_count": 95,
   "id": "c2c1de8d-6669-4033-b918-a67a4e29d3d3",
   "metadata": {},
   "outputs": [
    {
     "name": "stdout",
     "output_type": "stream",
     "text": [
      "Sparsh Khandelwal\n",
      "Male\n",
      "19\n",
      "India\n",
      "19\n",
      "Male\n",
      "{'Name': 'Sparsh Khandelwal', 'Age': '19', 'Gender': 'Male', 'Country': 'India'}\n",
      "{'Name': 'Sparsh Khandelwal', 'Gender': 'Male', 'Country': 'India'}\n",
      "['Name', 'Age', 'Gender', 'Country']\n",
      "['Name', 'Gender', 'Country']\n",
      "['Sparsh Khandelwal', '19', 'Male', 'India']\n",
      "['Sparsh Khandelwal', 'Male', 'India']\n",
      "{'Name': 'Sparsh Khandelwal', 'Age': '19', 'Gender': 'Male', 'Country': 'India', 'City': 'Indore', 'Year of Birth': '2002'}\n",
      "{'Name': 'Sparsh Khandelwal', 'Age': '19', 'Gender': 'Male', 'Country': 'India', 'City': 'Ujjain', 'Year of Birth': '2004'}\n",
      "{'Name': 'Sparsh Khandelwal', 'Age': '19', 'Gender': 'Male', 'Country': 'India', 'City': 'Ujjain'}\n"
     ]
    },
    {
     "name": "stdin",
     "output_type": "stream",
     "text": [
      "Enter what you want to know:  Country\n"
     ]
    },
    {
     "name": "stdout",
     "output_type": "stream",
     "text": [
      "India\n",
      "Name\n",
      "Age\n",
      "Gender\n",
      "Country\n",
      "City\n"
     ]
    }
   ],
   "source": [
    "#Creating a dictionary d\n",
    "d = {'Name': 'Sparsh Khandelwal', 'Age': '19', 'Gender': 'Male', 'Country': 'India'}\n",
    "\n",
    "#Accessing values using the get() method\n",
    "print(d.get('Name'))\n",
    "print(d.get('Gender'))\n",
    "print(d.get('Age'))\n",
    "print(d.get('Country'))\n",
    "\n",
    "#Accessing values using list(d.items()) and indexing\n",
    "print(list(d.items())[1][1])\n",
    "print(list(d.items())[2][1])\n",
    "\n",
    "#Creating a copy of the dictionary d\n",
    "dd = d.copy()\n",
    "print(dd)\n",
    "\n",
    "#Removing an item from the dictionary dd\n",
    "dd.pop('Age')\n",
    "print(dd)\n",
    "\n",
    "#Printing keys of the dictionaries d and dd as lists\n",
    "print(list(d.keys()))\n",
    "print(list(dd.keys()))\n",
    "\n",
    "#Printing values of the dictionaries d and dd as lists\n",
    "print(list(d.values()))\n",
    "print(list(dd.values()))\n",
    "\n",
    "#Creating a new dictionary d1\n",
    "d1 = {'Name': 'Sparsh Khandelwal', 'Age': '19', 'Gender': 'Male', 'Country': 'India'}\n",
    "\n",
    "#Creating another dictionary dup\n",
    "dup = {'City': 'Indore', 'Year of Birth': '2002'}\n",
    "\n",
    "#Updating d1 with dup\n",
    "d1.update(dup)\n",
    "print(d1)\n",
    "\n",
    "#Updating d1 with a new dup dictionary\n",
    "dup = {'City': 'Ujjain', 'Year of Birth': '2004'}\n",
    "d1.update(dup)\n",
    "print(d1)\n",
    "\n",
    "#Removing an item from d1\n",
    "d1.pop('Year of Birth')\n",
    "print(d1)\n",
    "\n",
    "#Taking user input and checking if it exists in d1\n",
    "x = input(\"Enter what you want to know: \")\n",
    "d1 = {'Name': 'Sparsh Khandelwal', 'Age': '19', 'Gender': 'Male', 'Country': 'India', 'City': 'Ujjain'}\n",
    "if x in d1:\n",
    "   print(d1[x])\n",
    "else:\n",
    "   print(\"Data not found\")\n",
    "\n",
    "#Printing keys of the dictionary d1\n",
    "d1 = {'Name': 'Sparsh Khandelwal', 'Age': '19', 'Gender': 'Male', 'Country': 'India', 'City': 'Ujjain'}\n",
    "for x in d1:\n",
    "   print(x)"
   ]
  },
  {
   "cell_type": "markdown",
   "id": "fd8391ab-049c-4a29-9b1b-f08137b754fa",
   "metadata": {},
   "source": [
    "## Stage-1 (Combine and Learn about all the data types)"
   ]
  },
  {
   "cell_type": "code",
   "execution_count": 83,
   "id": "44bcc9e2-5e41-46a8-b55f-0ff53e2da03a",
   "metadata": {},
   "outputs": [
    {
     "name": "stdout",
     "output_type": "stream",
     "text": [
      "{'Poha': 5, 'Jalebi': 2, 'Kachori': 1}\n"
     ]
    }
   ],
   "source": [
    "#Using function list to distionary\n",
    "a=['Poha', 5 , 'Jalebi', 2 , 'Kachori', 1]\n",
    "def convert(a):\n",
    "   b={}\n",
    "   for i in range(0,len(a),2):\n",
    "       b[a[i]] = a[i+1]\n",
    "   return b\n",
    "print(convert(a))"
   ]
  },
  {
   "cell_type": "code",
   "execution_count": 84,
   "id": "b8c25927-85f2-43e0-ab73-528ef1411fca",
   "metadata": {},
   "outputs": [
    {
     "name": "stdout",
     "output_type": "stream",
     "text": [
      "['Poha', 'Jalebi', 'Samosa']\n"
     ]
    }
   ],
   "source": [
    "#Tuple to list\n",
    "a=(\"Poha\", \"Jalebi\", \"Kachori\")\n",
    "b=list(a)\n",
    "b[2] = \"Samosa\"\n",
    "print(b)"
   ]
  },
  {
   "cell_type": "code",
   "execution_count": 85,
   "id": "794bfcd1-3381-407a-aa69-c9a85f41b17e",
   "metadata": {},
   "outputs": [
    {
     "name": "stdout",
     "output_type": "stream",
     "text": [
      "{'Poha': 5, 'Jalebi': 10, 'Samosa': 5}\n"
     ]
    }
   ],
   "source": [
    "#Tuples to dictionary\n",
    "nashta=('Poha', 5), ('Jalebi', 10), ('Samosa', 5)\n",
    "dictionary = dict(A)\n",
    "print(dictionary) "
   ]
  },
  {
   "cell_type": "code",
   "execution_count": 86,
   "id": "2c17da59-5fb2-4d2c-a79c-e29242331bf1",
   "metadata": {},
   "outputs": [
    {
     "name": "stdout",
     "output_type": "stream",
     "text": [
      "[('Poha', 10), ('Jalebi', 40), ('Chai', 5), ('Samosa', 7)]\n"
     ]
    }
   ],
   "source": [
    "#dictionary to list\n",
    "a={'Poha': 10,'Jalebi': 40,'Chai': 5,'Samosa': 7}\n",
    "b=[]\n",
    "for item in a.items():\n",
    "    b.append(item)\n",
    "print(b)"
   ]
  },
  {
   "cell_type": "code",
   "execution_count": 87,
   "id": "cd900145-9e54-47bc-b8ae-5367cdc05da9",
   "metadata": {},
   "outputs": [
    {
     "name": "stdin",
     "output_type": "stream",
     "text": [
      "sem or course:  sem\n",
      "which sem you want:  sem-2\n"
     ]
    },
    {
     "name": "stdout",
     "output_type": "stream",
     "text": [
      "DT\n",
      "POE\n",
      "FOP\n",
      "ITC\n"
     ]
    }
   ],
   "source": [
    "#Creating two lists\n",
    "list1 = [\"sem-1\", \"sem-2\"]\n",
    "list2 = [['ITD', 'CCT', 'EM', 'EP', 'JOM'], ['DT', 'POE', 'FOP', 'ITC']]\n",
    "\n",
    "#Creating an empty dictionary\n",
    "dic = {}\n",
    "\n",
    "#Creating an empty list\n",
    "a = []\n",
    "\n",
    "#Zipping the two lists and creating tuples\n",
    "for (ele1, ele2) in zip(list1, list2):\n",
    "   #Creating a tuple with elements from both lists\n",
    "   tuple = (ele1, ele2)\n",
    "   #Appending the tuple to the list 'a'\n",
    "   a.append(tuple)\n",
    "   #Adding the key-value pair to the dictionary 'dic'\n",
    "   dic[ele1] = ele2\n",
    "\n",
    "#Taking user input to choose 'sem' or 'course'\n",
    "x = input(\"sem or course: \")\n",
    "\n",
    "if x == \"sem\":\n",
    "   #If the user chooses 'sem'\n",
    "   y = input(\"which sem you want: \")\n",
    "   found = False\n",
    "\n",
    "   #Iterating over the dictionary\n",
    "   for ele, j in dic.items():\n",
    "       if ele == y:\n",
    "           #If the key matches the user input\n",
    "           for i in j:\n",
    "               #Printing the courses for that semester\n",
    "               print(i)\n",
    "           found = True\n",
    "\n",
    "   if not found:\n",
    "       #If no semester is found\n",
    "       print(\"no data found!\")\n",
    "\n",
    "else:\n",
    "   #If the user chooses 'course'\n",
    "   y = input(\"which course do you want: \")\n",
    "   found = False\n",
    "\n",
    "   #Iterating over the dictionary\n",
    "   for ele, j in dic.items():\n",
    "       if y in j:\n",
    "           #If the course is found in the values\n",
    "           print(ele)\n",
    "           found = True\n",
    "\n",
    "   if not found:\n",
    "       #If no course is found\n",
    "       print(\"no data found!\")"
   ]
  },
  {
   "cell_type": "markdown",
   "id": "033486ba-d579-447c-8c46-b88b0689789b",
   "metadata": {},
   "source": [
    "## Stage-3( Creating Scenario)"
   ]
  },
  {
   "cell_type": "code",
   "execution_count": 73,
   "id": "6d908843-6851-482f-94f6-e9fcd0ec1881",
   "metadata": {},
   "outputs": [
    {
     "name": "stdin",
     "output_type": "stream",
     "text": [
      "Enter the brand store you want to visit for shopping:  Zara\n"
     ]
    },
    {
     "name": "stdout",
     "output_type": "stream",
     "text": [
      "Welcome to Zara store!\n",
      "Available clothing items: ['Dresses', 'Pants', 'Sweaters']\n"
     ]
    },
    {
     "name": "stdin",
     "output_type": "stream",
     "text": [
      "Enter the clothing item you want to buy from Zara:  Dresses\n"
     ]
    },
    {
     "name": "stdout",
     "output_type": "stream",
     "text": [
      "You have selected Dresses from Zara store.\n",
      "The price of Dresses is Rs 499\n"
     ]
    },
    {
     "name": "stdin",
     "output_type": "stream",
     "text": [
      "Enter the quantity of Dresses you want to buy:  3\n"
     ]
    },
    {
     "name": "stdout",
     "output_type": "stream",
     "text": [
      "Total price: Rs 1497\n"
     ]
    }
   ],
   "source": [
    "#A list of brand stores\n",
    "brand_stores = [\"H&M\", \"Zara\", \"Nike\", \"Levi's\"]\n",
    "#A dictionary with available clothing items for each brand\n",
    "clothing_items = {\n",
    "    \"H&M\": [\"T-shirts\", \"Jeans\", \"Shorts\", \"Jackets\"],\n",
    "    \"Zara\": [\"Dresses\", \"Pants\", \"Sweaters\"],\n",
    "    \"Nike\": [\"Sneakers\", \"Sports T-shirts\", \"Shorts\", \"Tracksuits\"],\n",
    "    \"Levi's\": [\"Jeans\", \"Jackets\", \"Shirts\"]\n",
    "}\n",
    "#A dictionary with prices for each clothing item\n",
    "prices = {\n",
    "    \"T-shirts\": 249, \"Tracksuits\": 799, \"Sports T-shirts\": 299, \"Sneakers\": 699, \"Sweaters\": 499,\n",
    "    \"Shirts\": 349, \"Pants\": 450, \"Dresses\": 499, \"Jackets\": 599, \"Shorts\": 299, \"Jeans\": 499\n",
    "}\n",
    "#Taking input from the user to enter the brand store they want to visit for shopping\n",
    "chosen_brand = input(\"Enter the brand store you want to visit for shopping: \")\n",
    "\n",
    "#Check if the chosen brand is available in the brand_store which is in shopping mall\n",
    "if chosen_brand in brand_stores:\n",
    "    print(f\"Welcome to {chosen_brand} store!\")\n",
    "    \n",
    "    #Get the available clothing items for the chosen brand\n",
    "    available_items = clothing_items[chosen_brand]\n",
    "    print(f\"Available clothing items: {available_items}\")\n",
    "    \n",
    "    #Taking input from the user to enter the clothing item they want to buy\n",
    "    clothing_item = input(f\"Enter the clothing item you want to buy from {chosen_brand}: \")\n",
    "    \n",
    "    #Check if the chosen clothing item is available in the brand store\n",
    "    if clothing_item in available_items:\n",
    "        print(f\"You have selected {clothing_item} from {chosen_brand} store.\")\n",
    "        \n",
    "        #Check if the chosen clothing item has a price listed or not\n",
    "        if clothing_item in prices:\n",
    "            item_price = prices[clothing_item]\n",
    "            print(f\"The price of {clothing_item} is Rs {item_price}\")\n",
    "            \n",
    "            #Taking input from the user to enter the quantity of the clothing item that they want\n",
    "            quantity = int(input(f\"Enter the quantity of {clothing_item} you want to buy: \"))\n",
    "            \n",
    "            #Calculating the total price\n",
    "            total_price = item_price * quantity\n",
    "            print(f\"Total price: Rs {total_price}\")\n",
    "        else:\n",
    "            print(f\"Sorry, {clothing_item} is not available for purchase at the moment.\")\n",
    "    else:\n",
    "        print(f\"Sorry, {clothing_item} is not available in the {chosen_brand} store.\")\n",
    "else:\n",
    "    print(\"Sorry, the brand store you selected is not available in this shopping mall.\")\n"
   ]
  },
  {
   "cell_type": "markdown",
   "id": "6e29db1f-aa29-4512-be95-b4564a85b28f",
   "metadata": {},
   "source": [
    "## Stage-4(Discuss your findings and learnings)"
   ]
  },
  {
   "cell_type": "code",
   "execution_count": null,
   "id": "9f7eeab6-ba8c-4180-a345-fc1bf7e62565",
   "metadata": {},
   "outputs": [],
   "source": [
    "'''\n",
    "Working with different data types like lists, tuples, dictionaries, integers, and strings in Python can provide valuable insights and learnings. \n",
    "By working with these data types, you can learn about their characteristics, strengths, and weaknesses, as well as the appropriate use cases for each. Additionally, you'll gain experience in manipulating and transforming data using various operations and methods, which is a fundamental skill in programming.\n",
    "Overall, understanding and utilizing different data types effectively is essential for writing efficient, maintainable, and robust code in Python.\n",
    "'''"
   ]
  }
 ],
 "metadata": {
  "kernelspec": {
   "display_name": "Python 3 (ipykernel)",
   "language": "python",
   "name": "python3"
  },
  "language_info": {
   "codemirror_mode": {
    "name": "ipython",
    "version": 3
   },
   "file_extension": ".py",
   "mimetype": "text/x-python",
   "name": "python",
   "nbconvert_exporter": "python",
   "pygments_lexer": "ipython3",
   "version": "3.12.2"
  }
 },
 "nbformat": 4,
 "nbformat_minor": 5
}
